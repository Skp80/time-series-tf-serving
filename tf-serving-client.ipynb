{
 "cells": [
  {
   "cell_type": "markdown",
   "metadata": {
    "slideshow": {
     "slide_type": "slide"
    }
   },
   "source": [
    "# Sample client code to communicate with TF Serving on the GPU worker\n",
    "## Time-series prediction using a seq2seq model\n",
    "\n",
    "### Version: v1.2\n",
    "#### model_name=seq2seq_timeseries. The input and output tensors in this version are multidimensional.\n",
    "\n",
    "### Licenses/Credits\n",
    "* Copyright (c) 2019, PatternedScience Inc. This code was originally run on the [UniAnalytica platform](https://www.unianalytica.com/), is published by PatternedScience Inc. on GitHub and is licensed under the terms of Apache License 2.0; a copy of the license is available in the GitHub repository;\n",
    "\n",
    "* The visualization code snippet are based on [the work by Guillaume Chevalier](https://github.com/guillaume-chevalier/seq2seq-signal-prediction) (MIT License)."
   ]
  },
  {
   "cell_type": "markdown",
   "metadata": {
    "slideshow": {
     "slide_type": "slide"
    }
   },
   "source": [
    "### Run this on the command line on the GPU worker to launch TF Serving\n",
    "\n",
    "If something else is using the GPU on the worker (e.g., the training code/notebook), it's better to shut it down first."
   ]
  },
  {
   "cell_type": "raw",
   "metadata": {
    "slideshow": {
     "slide_type": "fragment"
    }
   },
   "source": [
    "docker run --runtime=nvidia -p 8501:8501 --mount \\\n",
    "type=bind,\\\n",
    "source=/workspace/notebooks/unianalytica/group/time-series-tf-serving-folder/time-series-tf-serving/exported_models/exp1,\\\n",
    "target=/models/seq2seq_timeseries \\\n",
    "-e MODEL_NAME=seq2seq_timeseries -t $USER/tensorflow-serving-gpu"
   ]
  },
  {
   "cell_type": "markdown",
   "metadata": {
    "slideshow": {
     "slide_type": "slide"
    }
   },
   "source": [
    "### Package imports, parameters, var initializations"
   ]
  },
  {
   "cell_type": "code",
   "execution_count": null,
   "metadata": {
    "slideshow": {
     "slide_type": "fragment"
    }
   },
   "outputs": [],
   "source": [
    "import json\n",
    "from urllib.request import urlopen\n",
    "import time\n",
    "from datetime import datetime\n",
    "import pytz\n",
    "import math\n",
    "import random\n",
    "import numpy as np\n",
    "import matplotlib.pyplot as plt\n",
    "%matplotlib inline\n",
    "\n",
    "model_server_host_address = '10.0.0.163'\n",
    "rest_api_port = 8501\n",
    "model_name = 'seq2seq_timeseries'\n",
    "model_ver = 1\n",
    "\n",
    "nb_predictions = 5\n",
    "\n",
    "seq_length_in = 10\n",
    "seq_length_out = 5\n",
    "input_dim = 1\n",
    "output_dim = 1\n",
    "dataset_x = []\n",
    "dataset_y = []"
   ]
  },
  {
   "cell_type": "markdown",
   "metadata": {
    "slideshow": {
     "slide_type": "slide"
    }
   },
   "source": [
    "### Creating a dataset to send for predictions"
   ]
  },
  {
   "cell_type": "code",
   "execution_count": null,
   "metadata": {
    "slideshow": {
     "slide_type": "fragment"
    }
   },
   "outputs": [],
   "source": [
    "for _ in range(nb_predictions):\n",
    "    rand = random.random() * 2 * math.pi\n",
    "\n",
    "    sig1 = np.sin(np.linspace(0.0 * math.pi + rand,\n",
    "                              3.0 * math.pi + rand, seq_length_in + seq_length_out))\n",
    "    sig2 = np.cos(np.linspace(0.0 * math.pi + rand,\n",
    "                              3.0 * math.pi + rand, seq_length_in + seq_length_out))\n",
    "        \n",
    "    x1 = sig1[:seq_length_in]\n",
    "    y1 = sig1[seq_length_in:]\n",
    "    \n",
    "    if input_dim == 1:\n",
    "        x_=np.tile(x1[:,None], input_dim)\n",
    "    \n",
    "    elif input_dim == 2:\n",
    "        x2 = sig2[:seq_length_in]\n",
    "        x_ = np.array([x1, x2])\n",
    "        x_= x_.T\n",
    "    \n",
    "    if output_dim == 1:\n",
    "        y_=np.tile(y1[:,None], output_dim)\n",
    "    \n",
    "    elif output_dim == 2:\n",
    "        y2 = sig2[seq_length_in:]\n",
    "        y_ = np.array([y1, y2])\n",
    "        y_= y_.T\n",
    "\n",
    "    dataset_x.append(x_)\n",
    "    dataset_y.append(y_)\n",
    "\n",
    "X = np.array(dataset_x).transpose((1, 0, 2))\n",
    "Y = np.array(dataset_y).transpose((1, 0, 2))"
   ]
  },
  {
   "cell_type": "markdown",
   "metadata": {
    "slideshow": {
     "slide_type": "slide"
    }
   },
   "source": [
    "### Sending the data to the server and getting the results back in `outputs`"
   ]
  },
  {
   "cell_type": "code",
   "execution_count": null,
   "metadata": {
    "slideshow": {
     "slide_type": "fragment"
    }
   },
   "outputs": [],
   "source": [
    "now = datetime.now(pytz.timezone('US/Eastern'))\n",
    "seconds_since_epoch_start = time.mktime(now.timetuple())\n",
    "now_microsecond_start = now.microsecond\n",
    "\n",
    "def CallREST(name, url, req):\n",
    "  print('Sending {} request to {} with data:\\n{}'.format(name, url, req))\n",
    "  resp = urlopen(url, data=json.dumps(req).encode())\n",
    "  #.dumps() changes JSON to string and .encode() returns a byte object\n",
    "  resp_data = resp.read()\n",
    "  print('Received response:\\n{}'.format(resp_data))\n",
    "  resp.close()\n",
    "  return resp_data\n",
    "  \n",
    "# Test Predict implementation over REST API:\n",
    "# Prepare request\n",
    "url = 'http://{}:{}/v1/models/{}/versions/{}:predict'.format(\n",
    "    model_server_host_address, rest_api_port, model_name, model_ver)\n",
    "json_req = {'instances': X.tolist()}\n",
    "    \n",
    "# Send request\n",
    "resp_data = None\n",
    "try:\n",
    "  resp_data = CallREST('Predict', url, json_req)\n",
    "except Exception as e:\n",
    "  print('Request failed with error: {}'.format(e))\n",
    "\n",
    "outputs = np.array(json.loads(resp_data)['predictions'])\n",
    "now = datetime.now(pytz.timezone('US/Eastern'))"
   ]
  },
  {
   "cell_type": "markdown",
   "metadata": {
    "slideshow": {
     "slide_type": "slide"
    }
   },
   "source": [
    "### Measuring the communication/prediction delay and plotting the received predictions:"
   ]
  },
  {
   "cell_type": "code",
   "execution_count": null,
   "metadata": {
    "scrolled": false,
    "slideshow": {
     "slide_type": "fragment"
    }
   },
   "outputs": [],
   "source": [
    "seconds_since_epoch_end = time.mktime(now.timetuple())\n",
    "now_microsecond_end = now.microsecond\n",
    "if seconds_since_epoch_end != seconds_since_epoch_start:\n",
    "    print('Communication and prediction took {} second(s).'.format(seconds_since_epoch_end - seconds_since_epoch_start))\n",
    "else:\n",
    "    duration_microseconds_part = now_microsecond_end - now_microsecond_start\n",
    "    print('Communication and prediction took {} milliseconds.'.format(duration_microseconds_part/1000))\n",
    "\n",
    "for j in range(nb_predictions): \n",
    "    plt.figure(figsize=(12, 3))\n",
    "\n",
    "    for k in range(input_dim):\n",
    "        past = X[:,j,k]\n",
    "        label1 = \"Seen (past) values\" if k==0 else \"_nolegend_\"\n",
    "        plt.plot(range(len(past)), past, \"o--b\", label=label1)\n",
    "\n",
    "    for k in range(output_dim):\n",
    "        expected = Y[:,j,k]\n",
    "        pred = outputs[:,j,k]\n",
    "\n",
    "        label2 = \"True future values\" if k==0 else \"_nolegend_\"\n",
    "        label3 = \"Predictions\" if k==0 else \"_nolegend_\"\n",
    "        plt.plot(range(len(past), len(expected)+len(past)), expected, \"x--b\", label=label2)\n",
    "        plt.plot(range(len(past), len(pred)+len(past)), pred, \"o--y\", label=label3)\n",
    "\n",
    "    plt.legend(loc='best')\n",
    "    plt.title(\"Predictions v.s. true values\")\n",
    "    plt.show()"
   ]
  }
 ],
 "metadata": {
  "celltoolbar": "Slideshow",
  "kernelspec": {
   "display_name": "Python 3",
   "language": "python",
   "name": "python3"
  },
  "language_info": {
   "codemirror_mode": {
    "name": "ipython",
    "version": 3
   },
   "file_extension": ".py",
   "mimetype": "text/x-python",
   "name": "python",
   "nbconvert_exporter": "python",
   "pygments_lexer": "ipython3",
   "version": "3.6.8"
  }
 },
 "nbformat": 4,
 "nbformat_minor": 2
}
